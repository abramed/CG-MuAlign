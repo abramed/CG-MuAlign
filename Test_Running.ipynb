{
 "cells": [
  {
   "cell_type": "code",
   "execution_count": null,
   "metadata": {},
   "outputs": [],
   "source": []
  }
 ],
 "metadata": {
  "kernelspec": {
   "display_name": "pytorch",
   "language": "python",
   "name": "python3"
  },
  "language_info": {
   "name": "python",
   "version": "3.10.9"
  },
  "orig_nbformat": 4,
  "vscode": {
   "interpreter": {
    "hash": "8439be6156e00e040a34dd2daffb6dbca49de78d4cbdb6ac11b5b1f9f81a4afc"
   }
  }
 },
 "nbformat": 4,
 "nbformat_minor": 2
}
